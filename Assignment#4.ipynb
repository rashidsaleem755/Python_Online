{
 "cells": [
  {
   "cell_type": "code",
   "execution_count": 6,
   "metadata": {},
   "outputs": [
    {
     "name": "stdout",
     "output_type": "stream",
     "text": [
      "{'first_name': 'Muhammad ', 'last_name': 'Sameer', 'age': 20, 'live': 'Karachi'}\n",
      "{'first_name': 'Muhammad ', 'last_name': 'Sameer', 'age': 20, 'live': 'Karachi', 'qualification': 'intermediate'}\n",
      "{'first_name': 'Muhammad ', 'last_name': 'Sameer', 'age': 20, 'live': 'Karachi'}\n"
     ]
    }
   ],
   "source": [
    "information = {\n",
    "    \"first_name\" : \"Muhammad \",\n",
    "    \"last_name\" :\"Sameer\",\n",
    "    \"age\" : 20,\n",
    "    \"live\" : \"Karachi\"\n",
    "}\n",
    "print(information)\n",
    "information [\"qualification\"] = \"intermediate\"\n",
    "print(information)\n",
    "del information [\"qualification\"]\n",
    "print(information)"
   ]
  },
  {
   "cell_type": "code",
   "execution_count": 31,
   "metadata": {},
   "outputs": [
    {
     "name": "stdout",
     "output_type": "stream",
     "text": [
      "{'country': 'UK', 'population': '5 million', 'fact': \"Queen's city\"}\n",
      "{'country': 'Pakistan', 'population': '20 million', 'fact': 'City of light'}\n",
      "{'country': 'France', 'population': '7 million', 'fact': 'Romantic City'}\n"
     ]
    }
   ],
   "source": [
    "cities = {\n",
    "    \"Karachi\" : {\n",
    "        \"country\" : \"Pakistan\",\n",
    "        \"population\" : \"20 million\",\n",
    "        \"fact\" : \"City of light\",\n",
    "    },\n",
    "    \"London\"  : {\n",
    "        \"country\" : \"UK\",\n",
    "        \"population\" : \"8.9 million\",\n",
    "        \"fact\" : \"The Romans were the first to make London their home.\",\n",
    "        \n",
    "    },\n",
    "    \"Paris\" : {\n",
    "        \"country\" : \"France\",\n",
    "        \"population\" : \"2.141 million\",\n",
    "        \"fact\" : \"The Eiffel Tower was supposed to be a temporary installation,intended to stand for 20 years after being built for the 1889 World Fair\",\n",
    "        \n",
    "    }\n",
    "}\n",
    "print (cities [\"London\"])\n",
    "print (cities [\"Karachi\"])\n",
    "print (cities [\"Paris\"])\n"
   ]
  },
  {
   "cell_type": "code",
   "execution_count": 2,
   "metadata": {},
   "outputs": [
    {
     "name": "stdout",
     "output_type": "stream",
     "text": [
      "enter your age :88\n",
      "ticket price is 15$\n",
      "enter your age :0\n"
     ]
    }
   ],
   "source": [
    "while True :\n",
    "    age = int(input(\"enter your age :\"))\n",
    "    if age == 0:\n",
    "        break\n",
    "    elif age < 3:\n",
    "        print (\"your ticket is free \")\n",
    "    elif age > 3 and age <= 12:\n",
    "        print (\"ticket price is 10$\")\n",
    "    else:\n",
    "        print (\"ticket price is 15$\")"
   ]
  },
  {
   "cell_type": "code",
   "execution_count": 5,
   "metadata": {},
   "outputs": [
    {
     "name": "stdout",
     "output_type": "stream",
     "text": [
      "enter book namepython\n",
      "one of my favourite book is  python\n"
     ]
    }
   ],
   "source": [
    "def favourite_book(title):\n",
    "    print(\"one of my favourite book is \",title)\n",
    "\n",
    "book = input(\"enter book name\") \n",
    "favourite_book(book)"
   ]
  },
  {
   "cell_type": "code",
   "execution_count": null,
   "metadata": {},
   "outputs": [],
   "source": [
    "import random\n",
    "\n",
    "number = random.randrange(1,30)\n",
    "\n",
    "while True: \n",
    "    guess = int(input(\"Please enter your guess: \"))\n",
    " \n",
    "    if guess == number:\n",
    "        print (\"Hit!\")\n",
    "        break\n",
    "    elif guess < number:\n",
    "        print (\"Your guess is too low\")\n",
    "    else:\n",
    "        print (\"Your guess is too high\")"
   ]
  },
  {
   "cell_type": "code",
   "execution_count": null,
   "metadata": {},
   "outputs": [],
   "source": []
  }
 ],
 "metadata": {
  "kernelspec": {
   "display_name": "Python 3",
   "language": "python",
   "name": "python3"
  },
  "language_info": {
   "codemirror_mode": {
    "name": "ipython",
    "version": 3
   },
   "file_extension": ".py",
   "mimetype": "text/x-python",
   "name": "python",
   "nbconvert_exporter": "python",
   "pygments_lexer": "ipython3",
   "version": "3.7.0"
  }
 },
 "nbformat": 4,
 "nbformat_minor": 2
}
